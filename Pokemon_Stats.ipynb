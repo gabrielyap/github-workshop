{
  "nbformat": 4,
  "nbformat_minor": 0,
  "metadata": {
    "colab": {
      "name": "Pokemon Stats.ipynb",
      "provenance": [],
      "collapsed_sections": [],
      "toc_visible": true,
      "authorship_tag": "ABX9TyNPfdIylDq7DUsSrRfbjVud"
    },
    "kernelspec": {
      "name": "python3",
      "display_name": "Python 3"
    }
  },
  "cells": [
    {
      "cell_type": "markdown",
      "metadata": {
        "id": "NwZvDKHJS9JA"
      },
      "source": [
        "***Preface***\r\n",
        "\r\n",
        "In this project, I wanted to study how a video game series can change over the span of a few years. A common way video games change in order to attract both old and new players is by introducing more powerful elements into their game. The logic is that if something new and more powerful is  implemented, older players would be excited to play so that they can experience the game on a new level. This idea is called a \"power creep\", where a game will slowly have more powerful entities in comparison to itself when the game first came out.\r\n",
        "\r\n",
        "In the video game series, Pokemon, the player catches \"Pokemon\" which all possess a unique set of stats, like attack, speed, and defense. The higher any of these stats are, the more powerful a pokemon is. More stats equals more power. A new set of pokemon are released in each new game, called \"generations\". The first pokemon that came out are called Generation I, and in the second game are called Generation II. This data set goes up to Generation VI.\r\n",
        "\r\n",
        "I want to answer the question: is there a correlation between the total amount of stats a pokemon has and the generation that pokemon was introduced in? If so, how can we predict what stats the next generation will have? Finally, can we prove that pokemon is practicing \"power creep\"?\r\n",
        "\r\n",
        "\r\n",
        "---\r\n",
        "\r\n",
        "\r\n"
      ]
    },
    {
      "cell_type": "markdown",
      "metadata": {
        "id": "iPSrCT4J8u_f"
      },
      "source": [
        "***Research***\r\n",
        "\r\n",
        "First I import the dataset of all pokemon and their stats from Generation I-VI (provided by Alberto Barradas on kaggle.com)\r\n",
        "\r\n",
        "\r\n",
        "\r\n"
      ]
    },
    {
      "cell_type": "code",
      "metadata": {
        "id": "Bj_WFnn2329e"
      },
      "source": [
        "import numpy as np\r\n",
        "from PIL import Image\r\n",
        "import matplotlib.pylab as plt\r\n",
        "import matplotlib.image as mpimg\r\n",
        "import matplotlib.pyplot as plt\r\n"
      ],
      "execution_count": null,
      "outputs": []
    },
    {
      "cell_type": "code",
      "metadata": {
        "id": "a89AvpMO2Z-c",
        "colab": {
          "base_uri": "https://localhost:8080/"
        },
        "outputId": "cbfe9583-6fff-436d-ecc1-d46076dde37f"
      },
      "source": [
        "import pandas as pd\r\n",
        "\r\n",
        "PKMN_DIR = '/content/Pokemon.csv'\r\n",
        "pkmn_data = pd.read_csv(PKMN_DIR)\r\n",
        "print (pkmn_data)\r\n"
      ],
      "execution_count": null,
      "outputs": [
        {
          "output_type": "stream",
          "text": [
            "       #                   Name   Type 1  ... Speed  Generation  Legendary\n",
            "0      1              Bulbasaur    Grass  ...    45           1      False\n",
            "1      2                Ivysaur    Grass  ...    60           1      False\n",
            "2      3               Venusaur    Grass  ...    80           1      False\n",
            "3      3  VenusaurMega Venusaur    Grass  ...    80           1      False\n",
            "4      4             Charmander     Fire  ...    65           1      False\n",
            "..   ...                    ...      ...  ...   ...         ...        ...\n",
            "795  719                Diancie     Rock  ...    50           6       True\n",
            "796  719    DiancieMega Diancie     Rock  ...   110           6       True\n",
            "797  720    HoopaHoopa Confined  Psychic  ...    70           6       True\n",
            "798  720     HoopaHoopa Unbound  Psychic  ...    80           6       True\n",
            "799  721              Volcanion     Fire  ...    70           6       True\n",
            "\n",
            "[800 rows x 13 columns]\n"
          ],
          "name": "stdout"
        }
      ]
    },
    {
      "cell_type": "markdown",
      "metadata": {
        "id": "e69RGlf48iCs"
      },
      "source": [
        "**Calculate the average total stats for each individual generation.**"
      ]
    },
    {
      "cell_type": "code",
      "metadata": {
        "colab": {
          "base_uri": "https://localhost:8080/"
        },
        "id": "P7ADJjU8HtxT",
        "outputId": "dfeae159-c698-4df9-8c44-fc79742b2146"
      },
      "source": [
        "avg_stats_total_gen1 = pkmn_data[pkmn_data['Generation'] == 1]['Total'].mean()\r\n",
        "print(\"Average total stats of Gen I: \", avg_stats_total_gen1)\r\n",
        "\r\n",
        "avg_stats_total_gen2 = pkmn_data[pkmn_data['Generation'] == 2]['Total'].mean()\r\n",
        "print(\"Average total stats of Gen II: \", avg_stats_total_gen2)\r\n",
        "\r\n",
        "avg_stats_total_gen3 = pkmn_data[pkmn_data['Generation'] == 3]['Total'].mean()\r\n",
        "print(\"Average total stats of Gen III: \", avg_stats_total_gen3)\r\n",
        "\r\n",
        "avg_stats_total_gen4 = pkmn_data[pkmn_data['Generation'] == 4]['Total'].mean()\r\n",
        "print(\"Average total stats of Gen IV: \", avg_stats_total_gen4)\r\n",
        "\r\n",
        "avg_stats_total_gen5 = pkmn_data[pkmn_data['Generation'] == 5]['Total'].mean()\r\n",
        "print(\"Average total stats of Gen V: \", avg_stats_total_gen5)\r\n",
        "\r\n",
        "avg_stats_total_gen6 = pkmn_data[pkmn_data['Generation'] == 6]['Total'].mean()\r\n",
        "print(\"Average total stats of Gen VI: \", avg_stats_total_gen6)"
      ],
      "execution_count": null,
      "outputs": [
        {
          "output_type": "stream",
          "text": [
            "Average total stats of Gen I:  426.81325301204816\n",
            "Average total stats of Gen II:  418.2830188679245\n",
            "Average total stats of Gen III:  436.225\n",
            "Average total stats of Gen IV:  459.0165289256198\n",
            "Average total stats of Gen V:  434.9878787878788\n",
            "Average total stats of Gen VI:  436.3780487804878\n"
          ],
          "name": "stdout"
        }
      ]
    },
    {
      "cell_type": "markdown",
      "metadata": {
        "id": "i8W0Dpni9N6E"
      },
      "source": [
        "**Plot the information on a graph. Generation vs Total Stats**\r\n",
        "\r\n"
      ]
    },
    {
      "cell_type": "code",
      "metadata": {
        "colab": {
          "base_uri": "https://localhost:8080/",
          "height": 312
        },
        "id": "KqJS26_CqJw4",
        "outputId": "1e4c7b68-1d64-4ad6-add1-72d3fc611cce"
      },
      "source": [
        "ax = plt.gca()\r\n",
        "#ax.scatter([1, 2, 3, 4, 5, 6], [[avg_stats_total_gen1], [avg_stats_total_gen2], [avg_stats_total_gen3], [avg_stats_total_gen4], [avg_stats_total_gen5], [avg_stats_total_gen6]], color ='b')\r\n",
        "genArray = [1,2,3,4,5,6]\r\n",
        "avgStatsArray = [[avg_stats_total_gen1], [avg_stats_total_gen2], [avg_stats_total_gen3], [avg_stats_total_gen4], [avg_stats_total_gen5], [avg_stats_total_gen6]]\r\n",
        "ax.scatter(genArray, avgStatsArray)\r\n",
        "plt.title('Pokemon Generation vs Average total Stats')\r\n",
        "plt.xlabel('Generation')\r\n",
        "plt.ylabel('Average total Stats')\r\n",
        "m, b = np.polyfit(genArray, avgStatsArray, 1)\r\n",
        "plt.plot(genArray, m*genArray + b)\r\n",
        "print(\"Predicted average total stats in x generation = \", m, \"x + \",b)"
      ],
      "execution_count": null,
      "outputs": [
        {
          "output_type": "stream",
          "text": [
            "Predicted average total stats in x generation =  [3.44943107] x +  [423.21094598]\n"
          ],
          "name": "stdout"
        },
        {
          "output_type": "display_data",
          "data": {
            "image/png": "[encoded data removed]",
            "text/plain": [
              "<Figure size 432x288 with 1 Axes>"
            ]
          },
          "metadata": {
            "tags": [],
            "needs_background": "light"
          }
        }
      ]
    },
    {
      "cell_type": "markdown",
      "metadata": {
        "id": "G10wDcFJjG27"
      },
      "source": [
        "We can see that most generations follow the general trendline, but Generation II is significantly below the trendline while Generation IV is extremely above the general trendline. "
      ]
    },
    {
      "cell_type": "code",
      "metadata": {
        "colab": {
          "base_uri": "https://localhost:8080/",
          "height": 295
        },
        "id": "3BdqJpruefLt",
        "outputId": "378b86dd-e5ce-421c-f611-68e022ee068c"
      },
      "source": [
        "avgStatsNoArr = [avg_stats_total_gen1, avg_stats_total_gen2, avg_stats_total_gen3, avg_stats_total_gen4, avg_stats_total_gen5, avg_stats_total_gen6]\r\n",
        "ax = plt.gca()\r\n",
        "ax.set_ylim(400,460)\r\n",
        "plt.bar(genArray,avgStatsNoArr)\r\n",
        "plt.title('Pokemon Generation vs Average total Stats')\r\n",
        "plt.xlabel('Generation')\r\n",
        "plt.ylabel('Average total Stats')\r\n",
        "plt.show()\r\n"
      ],
      "execution_count": null,
      "outputs": [
        {
          "output_type": "display_data",
          "data": {
            "image/png": "[encoded data removed]",
            "text/plain": [
              "<Figure size 432x288 with 1 Axes>"
            ]
          },
          "metadata": {
            "tags": [],
            "needs_background": "light"
          }
        }
      ]
    },
    {
      "cell_type": "markdown",
      "metadata": {
        "id": "sgIVH2Dx8f-A"
      },
      "source": [
        "Important things to note is that Generation III was the first Pokemon game to come out on the Gameboy Advance, while I and II were released on the Gameboy Color, the older Gameboy. In addition, Generation IV was the first Pokemon game released on the Nintendo DS. \r\n",
        "\r\n",
        "I hypothesize that the reason why Generation III and IV were so high above the average compared to their older counterparts was to generate excitement for the players.\r\n"
      ]
    },
    {
      "cell_type": "markdown",
      "metadata": {
        "id": "TWlM5kXcds2-"
      },
      "source": [
        "***Statistical Analysis***"
      ]
    },
    {
      "cell_type": "markdown",
      "metadata": {
        "id": "t5Ei4Sckk76-"
      },
      "source": [
        "Note: I am taking the average of the TOTAL average stats for each generation. I am not taking the average of all 721 recorded pokemon. This greatly reduces the standard deviation."
      ]
    },
    {
      "cell_type": "code",
      "metadata": {
        "colab": {
          "base_uri": "https://localhost:8080/"
        },
        "id": "8PtzSxWC4qDs",
        "outputId": "825a09c4-9579-40e5-c9fb-451cffcabd17"
      },
      "source": [
        "# avg_stats_all = pkmn_data['Total']\r\n",
        "# avg_stats_all = np.asarray(avg_stats_all).reshape(-1,1)\r\n",
        "# print(\"Mean stats total of all pokemon Gen I-VI: \", np.mean(avg_stats_all))\r\n",
        "# print(\"Standard deviation of all pokemon Gen I-VI:\", np.std(avg_stats_all))\r\n",
        "print(\"Mean stats total of all pokemon Gen I-VI: \", np.mean(avgStatsArray))\r\n",
        "print(\"Standard deviation of all pokemon Gen I-VI:\", np.std(avgStatsArray))"
      ],
      "execution_count": null,
      "outputs": [
        {
          "output_type": "stream",
          "text": [
            "Mean stats total of all pokemon Gen I-VI:  435.2839547289932\n",
            "Standard deviation of all pokemon Gen I-VI: 12.424370907524995\n"
          ],
          "name": "stdout"
        }
      ]
    },
    {
      "cell_type": "code",
      "metadata": {
        "colab": {
          "base_uri": "https://localhost:8080/"
        },
        "id": "Oa67jj8u443y",
        "outputId": "5bf1a6b8-5412-42eb-914e-27ef0af27bdd"
      },
      "source": [
        "print(\"Gen I z-score: \", (avg_stats_total_gen1 - np.mean(avgStatsArray)) / np.std(avgStatsArray))\r\n",
        "print(\"Gen II z-score: \", (avg_stats_total_gen2 - np.mean(avgStatsArray)) / np.std(avgStatsArray))"
      ],
      "execution_count": null,
      "outputs": [
        {
          "output_type": "stream",
          "text": [
            "Gen I z-score:  -0.6817811364448746\n",
            "Gen II z-score:  -1.3683538577210237\n"
          ],
          "name": "stdout"
        }
      ]
    },
    {
      "cell_type": "markdown",
      "metadata": {
        "id": "u3zcTVChqraY"
      },
      "source": [
        "This means that the average stats of Generation I pokemon are lower than 75.17% of the average stats of pokemon from Generation I-VI. Similarly, the average stats of Generation II pokemon is lower than 91.31% of all the average stats of pokemon from Generation I-VI.\r\n"
      ]
    },
    {
      "cell_type": "markdown",
      "metadata": {
        "id": "UzMelsR2svgI"
      },
      "source": [
        "**Conclusion**\r\n",
        "\r\n",
        "There is compelling evidence that Pokemon experienced a \"power creep\" after the release of Generation III. The average total stats between all generations is about 435. Generation I started fairly low with an average total stats of 426. Generation II had a clear drop in average stats with a score of 418. Afterwards, Generation III surged the average stats back up, the following generations all had average total stats of 435 and above. \r\n",
        "\r\n",
        "It may be unclear as to why Pokemon decided to keep the average stats higher than those of Generation I and II, but the release of new technologies can serve as a prediction. In order to sell the most amount of games and gaming devices possible, new, more powerful additions in the Pokemon universe had to be created to keep purchases high. After all, everyone wants to be better, faster, and stronger.\r\n",
        "\r\n",
        "\r\n",
        "---\r\n",
        "\r\n",
        "\r\n",
        "Gabriel Yap\r\n",
        "\r\n",
        "University of California, Davis\r\n",
        "\r\n",
        "Computer Science, B.S."
      ]
    }
  ]
}